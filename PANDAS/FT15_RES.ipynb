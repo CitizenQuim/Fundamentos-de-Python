{
 "cells": [
  {
   "cell_type": "markdown",
   "metadata": {},
   "source": [
    "# import pandas"
   ]
  },
  {
   "cell_type": "code",
   "execution_count": null,
   "metadata": {},
   "outputs": [],
   "source": [
    "import pandas as pd "
   ]
  },
  {
   "cell_type": "markdown",
   "metadata": {},
   "source": [
    "# ficheiro cast.csv para dataframe casts "
   ]
  },
  {
   "cell_type": "code",
   "execution_count": null,
   "metadata": {},
   "outputs": [],
   "source": [
    "casts = pd.read_csv('cast.csv', index_col=None) "
   ]
  },
  {
   "cell_type": "markdown",
   "metadata": {},
   "source": [
    "# dados estatisticos do conjunto"
   ]
  },
  {
   "cell_type": "code",
   "execution_count": null,
   "metadata": {},
   "outputs": [],
   "source": [
    "print(casts.describe()) "
   ]
  },
  {
   "cell_type": "markdown",
   "metadata": {},
   "source": [
    "# imprimir as cinco primeiras linhas do dataframe casts"
   ]
  },
  {
   "cell_type": "code",
   "execution_count": null,
   "metadata": {},
   "outputs": [],
   "source": [
    "print(casts.head())"
   ]
  },
  {
   "cell_type": "markdown",
   "metadata": {},
   "source": [
    "# ler ficheiro titles.csv para dataframe titles"
   ]
  },
  {
   "cell_type": "code",
   "execution_count": null,
   "metadata": {},
   "outputs": [],
   "source": [
    "titles = pd.read_csv('titles.csv', index_col =None) "
   ]
  },
  {
   "cell_type": "markdown",
   "metadata": {},
   "source": [
    "# imprimir as cinco últimas linhas do dataframe titles "
   ]
  },
  {
   "cell_type": "code",
   "execution_count": null,
   "metadata": {},
   "outputs": [],
   "source": [
    "print(titles.tail())"
   ]
  },
  {
   "cell_type": "markdown",
   "metadata": {},
   "source": [
    "# alterar numero de linhas e colunas a visualizar sempre que se imprime todo o dataframe "
   ]
  },
  {
   "cell_type": "code",
   "execution_count": null,
   "metadata": {},
   "outputs": [],
   "source": [
    "pd.set_option('display.max_rows', 10, 'display.max_columns', 10) "
   ]
  },
  {
   "cell_type": "markdown",
   "metadata": {},
   "source": [
    "# imprimir dataframe titles "
   ]
  },
  {
   "cell_type": "code",
   "execution_count": null,
   "metadata": {},
   "outputs": [],
   "source": [
    "print(titles) \n"
   ]
  },
  {
   "cell_type": "markdown",
   "metadata": {},
   "source": [
    "# atribuir à variável tamanho o numero total d linhas do dataframe titles \n",
    " \n"
   ]
  },
  {
   "cell_type": "code",
   "execution_count": null,
   "metadata": {},
   "outputs": [],
   "source": [
    "tamanho=len(titles) "
   ]
  },
  {
   "cell_type": "markdown",
   "metadata": {},
   "source": [
    "# imprimir tamanho  \n"
   ]
  },
  {
   "cell_type": "code",
   "execution_count": null,
   "metadata": {},
   "outputs": [],
   "source": [
    "print(tamanho)"
   ]
  },
  {
   "cell_type": "markdown",
   "metadata": {},
   "source": [
    "# imprimir primeiras três linhas do dataframe titles"
   ]
  },
  {
   "cell_type": "code",
   "execution_count": null,
   "metadata": {},
   "outputs": [],
   "source": [
    "print(titles.head(3))"
   ]
  },
  {
   "cell_type": "markdown",
   "metadata": {},
   "source": [
    "# obter serie t a partir do dataframe titles selecionando a coluna title"
   ]
  },
  {
   "cell_type": "code",
   "execution_count": 41,
   "metadata": {},
   "outputs": [],
   "source": [
    "t = titles['title']"
   ]
  },
  {
   "cell_type": "markdown",
   "metadata": {},
   "source": [
    "# imprimir tipo de dados de t"
   ]
  },
  {
   "cell_type": "code",
   "execution_count": 42,
   "metadata": {},
   "outputs": [
    {
     "name": "stdout",
     "output_type": "stream",
     "text": [
      "<class 'pandas.core.series.Series'>\n"
     ]
    }
   ],
   "source": [
    "print(type(t))"
   ]
  },
  {
   "cell_type": "markdown",
   "metadata": {},
   "source": [
    "# Obter informação geral do dataframe casts"
   ]
  },
  {
   "cell_type": "code",
   "execution_count": 43,
   "metadata": {},
   "outputs": [
    {
     "name": "stdout",
     "output_type": "stream",
     "text": [
      "<class 'pandas.core.frame.DataFrame'>\n",
      "RangeIndex: 75001 entries, 0 to 75000\n",
      "Data columns (total 6 columns):\n",
      " #   Column     Non-Null Count  Dtype  \n",
      "---  ------     --------------  -----  \n",
      " 0   title      75000 non-null  object \n",
      " 1   year       75001 non-null  int64  \n",
      " 2   name       75001 non-null  object \n",
      " 3   type       75001 non-null  object \n",
      " 4   character  75001 non-null  object \n",
      " 5   n          46035 non-null  float64\n",
      "dtypes: float64(1), int64(1), object(4)\n",
      "memory usage: 3.4+ MB\n"
     ]
    }
   ],
   "source": [
    "casts.info()"
   ]
  },
  {
   "cell_type": "markdown",
   "metadata": {},
   "source": [
    "# imprimir linha de indice 0 no dataframe titles"
   ]
  },
  {
   "cell_type": "code",
   "execution_count": 44,
   "metadata": {},
   "outputs": [
    {
     "name": "stdout",
     "output_type": "stream",
     "text": [
      "title    The Rising Son\n",
      "year               1990\n",
      "Name: 0, dtype: object\n"
     ]
    }
   ],
   "source": [
    "print(titles.iloc[0])"
   ]
  },
  {
   "cell_type": "markdown",
   "metadata": {},
   "source": [
    "# obter dataframe after85 filtrando o dataframe tatles selecionando os registos cujo ano é superior a 1985\n"
   ]
  },
  {
   "cell_type": "code",
   "execution_count": 48,
   "metadata": {},
   "outputs": [
    {
     "name": "stdout",
     "output_type": "stream",
     "text": [
      "              title  year\n",
      "0    The Rising Son  1990\n",
      "2  Crucea de piatra  1993\n",
      "3           Country  2000\n",
      "4        Gaiking II  2011\n",
      "5       Medusa (IV)  2015\n"
     ]
    }
   ],
   "source": [
    "after85 = titles[titles['year']> 1985]\n",
    "print(after85.head())\n",
    "\n",
    "t = titles\n"
   ]
  },
  {
   "cell_type": "markdown",
   "metadata": {},
   "source": [
    "# obter dataframe movies90 filtrando o dataframe t selecionando os registos cujo ano é superior e igual a 1990 e inferior a 2000\n"
   ]
  },
  {
   "cell_type": "code",
   "execution_count": 50,
   "metadata": {},
   "outputs": [
    {
     "name": "stdout",
     "output_type": "stream",
     "text": [
      "                       title  year\n",
      "0             The Rising Son  1990\n",
      "2           Crucea de piatra  1993\n",
      "12  Poka Makorer Ghar Bosoti  1996\n",
      "19          Maa Durga Shakti  1999\n",
      "24      Conflict of Interest  1993\n"
     ]
    }
   ],
   "source": [
    "movies90 = t[ (t['year']>=1990) & (t['year']<2000)]\n",
    "print(movies90.head())\n"
   ]
  },
  {
   "cell_type": "markdown",
   "metadata": {},
   "source": [
    "# obter dataframe macbeth a partir do dataframe t cujo valor na coluna title é igual a Macbeth\n"
   ]
  },
  {
   "cell_type": "code",
   "execution_count": 49,
   "metadata": {},
   "outputs": [
    {
     "name": "stdout",
     "output_type": "stream",
     "text": [
      "         title  year\n",
      "4226   Macbeth  1913\n",
      "9322   Macbeth  2006\n",
      "11722  Macbeth  2013\n",
      "17166  Macbeth  1997\n",
      "25847  Macbeth  1998\n"
     ]
    }
   ],
   "source": [
    "macbeth = t[ t['title'] == 'Macbeth']\n",
    "print(macbeth.head())"
   ]
  },
  {
   "cell_type": "markdown",
   "metadata": {},
   "source": [
    "# obter dataframe macbeth a partir do dataframe t cujo valor na coluna title é igual a Macbeth e ordenar por index"
   ]
  },
  {
   "cell_type": "code",
   "execution_count": 51,
   "metadata": {},
   "outputs": [
    {
     "name": "stdout",
     "output_type": "stream",
     "text": [
      "         title  year\n",
      "4226   Macbeth  1913\n",
      "9322   Macbeth  2006\n",
      "11722  Macbeth  2013\n",
      "17166  Macbeth  1997\n",
      "25847  Macbeth  1998\n"
     ]
    }
   ],
   "source": [
    "macbeth = t[t['title'] == 'Macbeth'].sort_index()\n",
    "print(macbeth.head())"
   ]
  },
  {
   "cell_type": "markdown",
   "metadata": {},
   "source": [
    "# obter dataframe macbeth a partir do dataframe t cujo valor na coluna title é igual a Macbeth e ordenar pelos values\n"
   ]
  },
  {
   "cell_type": "code",
   "execution_count": 53,
   "metadata": {},
   "outputs": [
    {
     "name": "stdout",
     "output_type": "stream",
     "text": [
      "         title  year\n",
      "4226   Macbeth  1913\n",
      "17166  Macbeth  1997\n",
      "25847  Macbeth  1998\n",
      "9322   Macbeth  2006\n",
      "11722  Macbeth  2013\n"
     ]
    }
   ],
   "source": [
    "macbeth = t[t['title'] == 'Macbeth'].sort_values('year')\n",
    "print(macbeth.head())"
   ]
  },
  {
   "cell_type": "markdown",
   "metadata": {},
   "source": [
    "# imprimir linhas 3 e 4 do dataframe casts"
   ]
  },
  {
   "cell_type": "code",
   "execution_count": 54,
   "metadata": {},
   "outputs": [
    {
     "name": "stdout",
     "output_type": "stream",
     "text": [
      "                  title  year     name   type                character   n\n",
      "3  Secret in Their Eyes  2015  $hutter  actor          2002 Dodger Fan NaN\n",
      "4            Steve Jobs  2015  $hutter  actor  1988 Opera House Patron NaN\n"
     ]
    }
   ],
   "source": [
    "print(casts.loc[3:4])\n",
    "\n",
    "c = casts"
   ]
  },
  {
   "cell_type": "markdown",
   "metadata": {},
   "source": [
    "# devolve true em cada elemento da linha correspondente à coluna n se o valor for nulo e falso caso contrário"
   ]
  },
  {
   "cell_type": "code",
   "execution_count": 55,
   "metadata": {},
   "outputs": [
    {
     "name": "stdout",
     "output_type": "stream",
     "text": [
      "0    False\n",
      "1    False\n",
      "2    False\n",
      "3     True\n",
      "4     True\n",
      "Name: n, dtype: bool\n"
     ]
    }
   ],
   "source": [
    "print(c['n'].isnull().head())"
   ]
  },
  {
   "cell_type": "markdown",
   "metadata": {},
   "source": [
    "# devolve FALSE em cada elemento da linha correspondente à coluna n se o valor for nulo e TRUE caso contrário"
   ]
  },
  {
   "cell_type": "code",
   "execution_count": 57,
   "metadata": {},
   "outputs": [
    {
     "name": "stdout",
     "output_type": "stream",
     "text": [
      "0     True\n",
      "1     True\n",
      "2     True\n",
      "3    False\n",
      "4    False\n",
      "Name: n, dtype: bool\n"
     ]
    }
   ],
   "source": [
    "print(c['n'].notnull().head())"
   ]
  },
  {
   "cell_type": "markdown",
   "metadata": {},
   "source": [
    "# devolve as primeiras linhas com valor nulo na coluna n"
   ]
  },
  {
   "cell_type": "code",
   "execution_count": 58,
   "metadata": {},
   "outputs": [
    {
     "name": "stdout",
     "output_type": "stream",
     "text": [
      "                    title  year     name   type                character   n\n",
      "3    Secret in Their Eyes  2015  $hutter  actor          2002 Dodger Fan NaN\n",
      "4              Steve Jobs  2015  $hutter  actor  1988 Opera House Patron NaN\n",
      "5  Straight Outta Compton  2015  $hutter  actor              Club Patron NaN\n"
     ]
    }
   ],
   "source": [
    "print(c[c['n'].isnull()].head(3))"
   ]
  },
  {
   "cell_type": "markdown",
   "metadata": {},
   "source": [
    "# substitui os valores nulos de n por 'NA'"
   ]
  },
  {
   "cell_type": "code",
   "execution_count": null,
   "metadata": {},
   "outputs": [
    {
     "name": "stdout",
     "output_type": "stream",
     "text": [
      "                  title  year     name   type                character   n\n",
      "3  Secret in Their Eyes  2015  $hutter  actor          2002 Dodger Fan  NA\n",
      "4            Steve Jobs  2015  $hutter  actor  1988 Opera House Patron  NA\n"
     ]
    }
   ],
   "source": [
    "c_fill = c[c['n'].isnull()].fillna('NA')\n",
    "print(c_fill.head(2))\n",
    "\n",
    "t = titles"
   ]
  },
  {
   "cell_type": "markdown",
   "metadata": {},
   "source": [
    "# imprime as linhas do dataframe cujo valor afetos à coluna title é igual a 'Maa'"
   ]
  },
  {
   "cell_type": "code",
   "execution_count": 60,
   "metadata": {},
   "outputs": [
    {
     "name": "stdout",
     "output_type": "stream",
     "text": [
      "      title  year\n",
      "38880   Maa  1968\n"
     ]
    }
   ],
   "source": [
    "print(t[t['title'] == 'Maa'])"
   ]
  },
  {
   "cell_type": "markdown",
   "metadata": {},
   "source": [
    "# imprime as linhas do dataframe cujp valor afetos à coluna title é inicia com a 'Maa'"
   ]
  },
  {
   "cell_type": "code",
   "execution_count": 61,
   "metadata": {},
   "outputs": [
    {
     "name": "stdout",
     "output_type": "stream",
     "text": [
      "                 title  year\n",
      "19    Maa Durga Shakti  1999\n",
      "334         Maarek hob  2004\n",
      "3046     Maa Aur Mamta  1970\n"
     ]
    }
   ],
   "source": [
    "print(t[t['title'].str.startswith(\"Maa\")].head(3))"
   ]
  },
  {
   "cell_type": "markdown",
   "metadata": {},
   "source": [
    "# conta os valores não nulos presentes na coluna year"
   ]
  },
  {
   "cell_type": "code",
   "execution_count": 62,
   "metadata": {},
   "outputs": [
    {
     "name": "stdout",
     "output_type": "stream",
     "text": [
      "year\n",
      "2016    2363\n",
      "2017    2138\n",
      "2015    1849\n",
      "2014    1701\n",
      "2013    1609\n",
      "Name: count, dtype: int64\n"
     ]
    }
   ],
   "source": [
    "print(t['year'].value_counts().head())\n",
    "\n",
    "c = casts"
   ]
  },
  {
   "cell_type": "markdown",
   "metadata": {},
   "source": [
    "# obtem o dataframe cf a partir de c filtrando os dados que verifiquem a condição do autor ser 'Aaron Abrams'"
   ]
  },
  {
   "cell_type": "code",
   "execution_count": 64,
   "metadata": {},
   "outputs": [],
   "source": [
    "cf = c[c['name'] == 'Aaron Abrams']"
   ]
  },
  {
   "cell_type": "markdown",
   "metadata": {},
   "source": [
    "# Agrupar os dados do dataframe anterior pela coluna year"
   ]
  },
  {
   "cell_type": "code",
   "execution_count": 65,
   "metadata": {},
   "outputs": [
    {
     "name": "stdout",
     "output_type": "stream",
     "text": [
      "year\n",
      "2003    2\n",
      "2004    2\n",
      "2005    2\n",
      "2006    1\n",
      "2007    2\n",
      "dtype: int64\n"
     ]
    }
   ],
   "source": [
    "print(cf.groupby(['year']).size().head())"
   ]
  },
  {
   "cell_type": "markdown",
   "metadata": {},
   "source": [
    "# group by com múltiplas colunas"
   ]
  },
  {
   "cell_type": "code",
   "execution_count": 66,
   "metadata": {},
   "outputs": [
    {
     "data": {
      "text/plain": [
       "year  title                               \n",
       "2003  The In-Laws                             1\n",
       "      The Visual Bible: The Gospel of John    1\n",
       "2004  Resident Evil: Apocalypse               1\n",
       "      Siblings                                1\n",
       "2005  Cinderella Man                          1\n",
       "dtype: int64"
      ]
     },
     "execution_count": 66,
     "metadata": {},
     "output_type": "execute_result"
    }
   ],
   "source": [
    "gbmultiplecolumns = cf.groupby(['year', 'title']).size()\n",
    "gbmultiplecolumns.head()\n"
   ]
  },
  {
   "cell_type": "markdown",
   "metadata": {},
   "source": [
    "# leitura dos dados do ficheiro release_dates.csv para o dataframe release"
   ]
  },
  {
   "cell_type": "code",
   "execution_count": 68,
   "metadata": {},
   "outputs": [
    {
     "name": "stdout",
     "output_type": "stream",
     "text": [
      "                    title  year      country        date\n",
      "0   #73, Shaanthi Nivaasa  2007        India  2007-06-15\n",
      "1                 #Beings  2015      Romania  2015-01-29\n",
      "2               #Declimax  2018  Netherlands  2018-01-21\n",
      "3  #Ewankosau saranghaeyo  2015  Philippines  2015-01-21\n",
      "4                 #Horror  2015          USA  2015-11-20\n",
      "        title  year            name   type    character     n\n",
      "5767   Amelia  2009    Aaron Abrams  actor  Slim Gordon   8.0\n",
      "23319  Amelia  2009  Jeremy Akerman  actor      Sheriff  19.0\n",
      "        title  year    country        date\n",
      "20543  Amelia  1966     Mexico  1966-03-10\n",
      "20544  Amelia  2009     Canada  2009-10-23\n",
      "20545  Amelia  2009        USA  2009-10-23\n",
      "20546  Amelia  2009  Australia  2009-11-12\n",
      "20547  Amelia  2009  Singapore  2009-11-12\n"
     ]
    }
   ],
   "source": [
    "release = pd.read_csv('release_dates.csv' , index_col=None)\n",
    "print(release.head())\n",
    "\n",
    "c_amelia = casts[casts['title'] == 'Amelia']\n",
    "print(c_amelia.head())\n",
    "print(release[release['title'] == 'Amelia'].head())"
   ]
  },
  {
   "cell_type": "markdown",
   "metadata": {},
   "source": [
    "# imprimeir os primeiras cinco linhas do merge (fusão) c_amelia com o dataframe release"
   ]
  },
  {
   "cell_type": "code",
   "execution_count": null,
   "metadata": {},
   "outputs": [],
   "source": [
    "print(c_amelia.merge(release).head())"
   ]
  }
 ],
 "metadata": {
  "kernelspec": {
   "display_name": "Python 3",
   "language": "python",
   "name": "python3"
  },
  "language_info": {
   "codemirror_mode": {
    "name": "ipython",
    "version": 3
   },
   "file_extension": ".py",
   "mimetype": "text/x-python",
   "name": "python",
   "nbconvert_exporter": "python",
   "pygments_lexer": "ipython3",
   "version": "3.13.1"
  }
 },
 "nbformat": 4,
 "nbformat_minor": 2
}
